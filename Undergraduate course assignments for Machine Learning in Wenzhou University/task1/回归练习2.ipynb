{
 "cells": [
  {
   "cell_type": "markdown",
   "id": "d020d3a6",
   "metadata": {},
   "source": [
    "## 作业任务\n",
    "1. 对原始数据进行探索和可视化\n",
    "2. 数据清洗和特征工程\n",
    "3. 建立一个回归模型\n",
    "4. 模型评估\n",
    "5. 提交\n",
    "\n",
    "备注：测试数据的标签未提供\n",
    "\n",
    "最终成绩：模型在测试数据上的R2分数。"
   ]
  },
  {
   "cell_type": "code",
   "execution_count": 323,
   "id": "51f32c1b",
   "metadata": {},
   "outputs": [],
   "source": [
    "import numpy as np \n",
    "import pandas as pd\n",
    "import matplotlib.pyplot as plt\n",
    "import datetime"
   ]
  },
  {
   "cell_type": "code",
   "execution_count": 324,
   "id": "6272c1c3",
   "metadata": {},
   "outputs": [],
   "source": [
    "train=pd.read_csv('data/houseprice_train.csv')\n",
    "hack_data = pd.read_csv('data/housing_hack.csv')\n",
    "test=pd.read_csv('data/houseprice_test.csv')"
   ]
  },
  {
   "cell_type": "code",
   "execution_count": 325,
   "id": "cb44c4c5",
   "metadata": {
    "scrolled": true
   },
   "outputs": [
    {
     "data": {
      "text/plain": [
       "((16512, 9), (4128, 8))"
      ]
     },
     "execution_count": 325,
     "metadata": {},
     "output_type": "execute_result"
    }
   ],
   "source": [
    "train.shape,test.shape"
   ]
  },
  {
   "cell_type": "markdown",
   "id": "539f8a75",
   "metadata": {},
   "source": [
    "\n",
    "### 该数据集来自1990年美国人口普查\n",
    "\n",
    "#### 标签\n",
    "- target 加利福尼亚地区的房屋价值中位数\n",
    "\n",
    "#### 特征\n",
    "- Medlnc  住户收入中位数\n",
    "- HouseAge  房屋使用年代中位数\n",
    "- AveRooms  平均房间数目\n",
    "- Ave Bedrms  平均卧室数目\n",
    "- Population  街区人口\n",
    "- Ave Occup  平均入住率 \n",
    "- Latitude  街区的纬度\n",
    "- Longitude  街区的经度\n",
    "\n",
    "训练数据16512行\n",
    "\n",
    "测试数据4128行"
   ]
  },
  {
   "cell_type": "code",
   "execution_count": 326,
   "id": "528f1e79",
   "metadata": {},
   "outputs": [],
   "source": [
    "cols = train.shape[1]\n",
    "X_train = train.iloc[:, 0:cols - 1]\n",
    "y_train = train.iloc[:, cols - 1:cols]\n",
    "X_test = test"
   ]
  },
  {
   "cell_type": "code",
   "execution_count": 327,
   "id": "56b27ea2",
   "metadata": {},
   "outputs": [
    {
     "data": {
      "text/html": [
       "<div>\n",
       "<style scoped>\n",
       "    .dataframe tbody tr th:only-of-type {\n",
       "        vertical-align: middle;\n",
       "    }\n",
       "\n",
       "    .dataframe tbody tr th {\n",
       "        vertical-align: top;\n",
       "    }\n",
       "\n",
       "    .dataframe thead th {\n",
       "        text-align: right;\n",
       "    }\n",
       "</style>\n",
       "<table border=\"1\" class=\"dataframe\">\n",
       "  <thead>\n",
       "    <tr style=\"text-align: right;\">\n",
       "      <th></th>\n",
       "      <th>MedInc</th>\n",
       "      <th>HouseAge</th>\n",
       "      <th>AveRooms</th>\n",
       "      <th>AveBedrms</th>\n",
       "      <th>Population</th>\n",
       "      <th>AveOccup</th>\n",
       "      <th>Latitude</th>\n",
       "      <th>Longitude</th>\n",
       "    </tr>\n",
       "  </thead>\n",
       "  <tbody>\n",
       "    <tr>\n",
       "      <th>0</th>\n",
       "      <td>2.9076</td>\n",
       "      <td>24.0</td>\n",
       "      <td>4.220497</td>\n",
       "      <td>1.116460</td>\n",
       "      <td>3018.0</td>\n",
       "      <td>4.686335</td>\n",
       "      <td>34.24</td>\n",
       "      <td>-118.53</td>\n",
       "    </tr>\n",
       "    <tr>\n",
       "      <th>1</th>\n",
       "      <td>4.2019</td>\n",
       "      <td>25.0</td>\n",
       "      <td>3.625442</td>\n",
       "      <td>1.017668</td>\n",
       "      <td>1646.0</td>\n",
       "      <td>5.816254</td>\n",
       "      <td>33.85</td>\n",
       "      <td>-117.93</td>\n",
       "    </tr>\n",
       "    <tr>\n",
       "      <th>2</th>\n",
       "      <td>2.6296</td>\n",
       "      <td>25.0</td>\n",
       "      <td>3.903226</td>\n",
       "      <td>1.095662</td>\n",
       "      <td>2359.0</td>\n",
       "      <td>2.624027</td>\n",
       "      <td>32.65</td>\n",
       "      <td>-117.09</td>\n",
       "    </tr>\n",
       "    <tr>\n",
       "      <th>3</th>\n",
       "      <td>1.6731</td>\n",
       "      <td>41.0</td>\n",
       "      <td>4.036827</td>\n",
       "      <td>1.053824</td>\n",
       "      <td>1803.0</td>\n",
       "      <td>5.107649</td>\n",
       "      <td>33.99</td>\n",
       "      <td>-118.24</td>\n",
       "    </tr>\n",
       "    <tr>\n",
       "      <th>4</th>\n",
       "      <td>3.6875</td>\n",
       "      <td>42.0</td>\n",
       "      <td>5.637255</td>\n",
       "      <td>1.053922</td>\n",
       "      <td>708.0</td>\n",
       "      <td>3.470588</td>\n",
       "      <td>33.89</td>\n",
       "      <td>-118.09</td>\n",
       "    </tr>\n",
       "    <tr>\n",
       "      <th>...</th>\n",
       "      <td>...</td>\n",
       "      <td>...</td>\n",
       "      <td>...</td>\n",
       "      <td>...</td>\n",
       "      <td>...</td>\n",
       "      <td>...</td>\n",
       "      <td>...</td>\n",
       "      <td>...</td>\n",
       "    </tr>\n",
       "    <tr>\n",
       "      <th>16507</th>\n",
       "      <td>4.0647</td>\n",
       "      <td>23.0</td>\n",
       "      <td>4.717113</td>\n",
       "      <td>1.111758</td>\n",
       "      <td>1950.0</td>\n",
       "      <td>2.270081</td>\n",
       "      <td>33.43</td>\n",
       "      <td>-117.62</td>\n",
       "    </tr>\n",
       "    <tr>\n",
       "      <th>16508</th>\n",
       "      <td>0.8172</td>\n",
       "      <td>52.0</td>\n",
       "      <td>6.102459</td>\n",
       "      <td>1.372951</td>\n",
       "      <td>728.0</td>\n",
       "      <td>2.983607</td>\n",
       "      <td>37.82</td>\n",
       "      <td>-122.28</td>\n",
       "    </tr>\n",
       "    <tr>\n",
       "      <th>16509</th>\n",
       "      <td>4.6350</td>\n",
       "      <td>36.0</td>\n",
       "      <td>6.693762</td>\n",
       "      <td>1.077505</td>\n",
       "      <td>1478.0</td>\n",
       "      <td>2.793951</td>\n",
       "      <td>37.71</td>\n",
       "      <td>-122.06</td>\n",
       "    </tr>\n",
       "    <tr>\n",
       "      <th>16510</th>\n",
       "      <td>3.1587</td>\n",
       "      <td>11.0</td>\n",
       "      <td>3.656874</td>\n",
       "      <td>1.045828</td>\n",
       "      <td>1700.0</td>\n",
       "      <td>1.997650</td>\n",
       "      <td>34.18</td>\n",
       "      <td>-118.31</td>\n",
       "    </tr>\n",
       "    <tr>\n",
       "      <th>16511</th>\n",
       "      <td>2.2727</td>\n",
       "      <td>10.0</td>\n",
       "      <td>4.934028</td>\n",
       "      <td>1.076389</td>\n",
       "      <td>1443.0</td>\n",
       "      <td>2.505208</td>\n",
       "      <td>36.59</td>\n",
       "      <td>-119.61</td>\n",
       "    </tr>\n",
       "  </tbody>\n",
       "</table>\n",
       "<p>16512 rows × 8 columns</p>\n",
       "</div>"
      ],
      "text/plain": [
       "       MedInc  HouseAge  AveRooms  AveBedrms  Population  AveOccup  Latitude  \\\n",
       "0      2.9076      24.0  4.220497   1.116460      3018.0  4.686335     34.24   \n",
       "1      4.2019      25.0  3.625442   1.017668      1646.0  5.816254     33.85   \n",
       "2      2.6296      25.0  3.903226   1.095662      2359.0  2.624027     32.65   \n",
       "3      1.6731      41.0  4.036827   1.053824      1803.0  5.107649     33.99   \n",
       "4      3.6875      42.0  5.637255   1.053922       708.0  3.470588     33.89   \n",
       "...       ...       ...       ...        ...         ...       ...       ...   \n",
       "16507  4.0647      23.0  4.717113   1.111758      1950.0  2.270081     33.43   \n",
       "16508  0.8172      52.0  6.102459   1.372951       728.0  2.983607     37.82   \n",
       "16509  4.6350      36.0  6.693762   1.077505      1478.0  2.793951     37.71   \n",
       "16510  3.1587      11.0  3.656874   1.045828      1700.0  1.997650     34.18   \n",
       "16511  2.2727      10.0  4.934028   1.076389      1443.0  2.505208     36.59   \n",
       "\n",
       "       Longitude  \n",
       "0        -118.53  \n",
       "1        -117.93  \n",
       "2        -117.09  \n",
       "3        -118.24  \n",
       "4        -118.09  \n",
       "...          ...  \n",
       "16507    -117.62  \n",
       "16508    -122.28  \n",
       "16509    -122.06  \n",
       "16510    -118.31  \n",
       "16511    -119.61  \n",
       "\n",
       "[16512 rows x 8 columns]"
      ]
     },
     "execution_count": 327,
     "metadata": {},
     "output_type": "execute_result"
    }
   ],
   "source": [
    "X_train"
   ]
  },
  {
   "cell_type": "markdown",
   "id": "c499f3a3",
   "metadata": {},
   "source": [
    "## 数据清洗和可视化\n",
    "这部分由同学们完成\n",
    "\n",
    "建议：\n",
    "- 清洗冗余特征\n",
    "- 数据规范化\n",
    "- 构造特征"
   ]
  },
  {
   "cell_type": "code",
   "execution_count": 328,
   "id": "7f7a5fdd",
   "metadata": {},
   "outputs": [],
   "source": [
    "import seaborn as sns\n",
    "def paincorr(X_train,y_train):\n",
    "    housing = pd.concat([X_train,y_train],axis=1)\n",
    "    mask = np.zeros_like(housing.corr(), dtype=np.bool)\n",
    "    #mask[np.triu_indices_from(mask)] = True\n",
    "\n",
    "    plt.subplots(figsize = (15,12))\n",
    "    sns.heatmap(housing.corr(), \n",
    "                annot=True,\n",
    "                #mask = mask,\n",
    "                cmap = 'RdBu_r',\n",
    "                linewidths=0.1, \n",
    "                linecolor='white',\n",
    "                vmax = .9,\n",
    "                square=True)\n",
    "    plt.title(\"Correlations Among Features\", y = 1.03,fontsize = 17)\n",
    "    plt.show()"
   ]
  },
  {
   "cell_type": "code",
   "execution_count": 329,
   "id": "be018c26",
   "metadata": {},
   "outputs": [
    {
     "name": "stderr",
     "output_type": "stream",
     "text": [
      "C:\\Users\\wlz\\AppData\\Local\\Temp/ipykernel_8544/2560604158.py:4: DeprecationWarning: `np.bool` is a deprecated alias for the builtin `bool`. To silence this warning, use `bool` by itself. Doing this will not modify any behavior and is safe. If you specifically wanted the numpy scalar type, use `np.bool_` here.\n",
      "Deprecated in NumPy 1.20; for more details and guidance: https://numpy.org/devdocs/release/1.20.0-notes.html#deprecations\n",
      "  mask = np.zeros_like(housing.corr(), dtype=np.bool)\n"
     ]
    },
    {
     "data": {
      "image/png": "[encoded data removed]",
      "text/plain": [
       "<Figure size 1080x864 with 2 Axes>"
      ]
     },
     "metadata": {
      "needs_background": "light"
     },
     "output_type": "display_data"
    }
   ],
   "source": [
    "paincorr(X_train,y_train)"
   ]
  },
  {
   "cell_type": "code",
   "execution_count": 330,
   "id": "917cd0fa",
   "metadata": {},
   "outputs": [
    {
     "data": {
      "text/html": [
       "<div>\n",
       "<style scoped>\n",
       "    .dataframe tbody tr th:only-of-type {\n",
       "        vertical-align: middle;\n",
       "    }\n",
       "\n",
       "    .dataframe tbody tr th {\n",
       "        vertical-align: top;\n",
       "    }\n",
       "\n",
       "    .dataframe thead th {\n",
       "        text-align: right;\n",
       "    }\n",
       "</style>\n",
       "<table border=\"1\" class=\"dataframe\">\n",
       "  <thead>\n",
       "    <tr style=\"text-align: right;\">\n",
       "      <th></th>\n",
       "      <th>MedInc</th>\n",
       "      <th>HouseAge</th>\n",
       "      <th>AveRooms</th>\n",
       "      <th>AveBedrms</th>\n",
       "      <th>Population</th>\n",
       "      <th>AveOccup</th>\n",
       "      <th>Latitude</th>\n",
       "      <th>Longitude</th>\n",
       "    </tr>\n",
       "  </thead>\n",
       "  <tbody>\n",
       "    <tr>\n",
       "      <th>0</th>\n",
       "      <td>2.9076</td>\n",
       "      <td>24.0</td>\n",
       "      <td>4.220497</td>\n",
       "      <td>1.116460</td>\n",
       "      <td>3018.0</td>\n",
       "      <td>4.686335</td>\n",
       "      <td>34.24</td>\n",
       "      <td>-118.53</td>\n",
       "    </tr>\n",
       "    <tr>\n",
       "      <th>1</th>\n",
       "      <td>4.2019</td>\n",
       "      <td>25.0</td>\n",
       "      <td>3.625442</td>\n",
       "      <td>1.017668</td>\n",
       "      <td>1646.0</td>\n",
       "      <td>5.816254</td>\n",
       "      <td>33.85</td>\n",
       "      <td>-117.93</td>\n",
       "    </tr>\n",
       "    <tr>\n",
       "      <th>2</th>\n",
       "      <td>2.6296</td>\n",
       "      <td>25.0</td>\n",
       "      <td>3.903226</td>\n",
       "      <td>1.095662</td>\n",
       "      <td>2359.0</td>\n",
       "      <td>2.624027</td>\n",
       "      <td>32.65</td>\n",
       "      <td>-117.09</td>\n",
       "    </tr>\n",
       "    <tr>\n",
       "      <th>3</th>\n",
       "      <td>1.6731</td>\n",
       "      <td>41.0</td>\n",
       "      <td>4.036827</td>\n",
       "      <td>1.053824</td>\n",
       "      <td>1803.0</td>\n",
       "      <td>5.107649</td>\n",
       "      <td>33.99</td>\n",
       "      <td>-118.24</td>\n",
       "    </tr>\n",
       "    <tr>\n",
       "      <th>4</th>\n",
       "      <td>3.6875</td>\n",
       "      <td>42.0</td>\n",
       "      <td>5.637255</td>\n",
       "      <td>1.053922</td>\n",
       "      <td>708.0</td>\n",
       "      <td>3.470588</td>\n",
       "      <td>33.89</td>\n",
       "      <td>-118.09</td>\n",
       "    </tr>\n",
       "    <tr>\n",
       "      <th>...</th>\n",
       "      <td>...</td>\n",
       "      <td>...</td>\n",
       "      <td>...</td>\n",
       "      <td>...</td>\n",
       "      <td>...</td>\n",
       "      <td>...</td>\n",
       "      <td>...</td>\n",
       "      <td>...</td>\n",
       "    </tr>\n",
       "    <tr>\n",
       "      <th>16507</th>\n",
       "      <td>4.0647</td>\n",
       "      <td>23.0</td>\n",
       "      <td>4.717113</td>\n",
       "      <td>1.111758</td>\n",
       "      <td>1950.0</td>\n",
       "      <td>2.270081</td>\n",
       "      <td>33.43</td>\n",
       "      <td>-117.62</td>\n",
       "    </tr>\n",
       "    <tr>\n",
       "      <th>16508</th>\n",
       "      <td>0.8172</td>\n",
       "      <td>52.0</td>\n",
       "      <td>6.102459</td>\n",
       "      <td>1.372951</td>\n",
       "      <td>728.0</td>\n",
       "      <td>2.983607</td>\n",
       "      <td>37.82</td>\n",
       "      <td>-122.28</td>\n",
       "    </tr>\n",
       "    <tr>\n",
       "      <th>16509</th>\n",
       "      <td>4.6350</td>\n",
       "      <td>36.0</td>\n",
       "      <td>6.693762</td>\n",
       "      <td>1.077505</td>\n",
       "      <td>1478.0</td>\n",
       "      <td>2.793951</td>\n",
       "      <td>37.71</td>\n",
       "      <td>-122.06</td>\n",
       "    </tr>\n",
       "    <tr>\n",
       "      <th>16510</th>\n",
       "      <td>3.1587</td>\n",
       "      <td>11.0</td>\n",
       "      <td>3.656874</td>\n",
       "      <td>1.045828</td>\n",
       "      <td>1700.0</td>\n",
       "      <td>1.997650</td>\n",
       "      <td>34.18</td>\n",
       "      <td>-118.31</td>\n",
       "    </tr>\n",
       "    <tr>\n",
       "      <th>16511</th>\n",
       "      <td>2.2727</td>\n",
       "      <td>10.0</td>\n",
       "      <td>4.934028</td>\n",
       "      <td>1.076389</td>\n",
       "      <td>1443.0</td>\n",
       "      <td>2.505208</td>\n",
       "      <td>36.59</td>\n",
       "      <td>-119.61</td>\n",
       "    </tr>\n",
       "  </tbody>\n",
       "</table>\n",
       "<p>16512 rows × 8 columns</p>\n",
       "</div>"
      ],
      "text/plain": [
       "       MedInc  HouseAge  AveRooms  AveBedrms  Population  AveOccup  Latitude  \\\n",
       "0      2.9076      24.0  4.220497   1.116460      3018.0  4.686335     34.24   \n",
       "1      4.2019      25.0  3.625442   1.017668      1646.0  5.816254     33.85   \n",
       "2      2.6296      25.0  3.903226   1.095662      2359.0  2.624027     32.65   \n",
       "3      1.6731      41.0  4.036827   1.053824      1803.0  5.107649     33.99   \n",
       "4      3.6875      42.0  5.637255   1.053922       708.0  3.470588     33.89   \n",
       "...       ...       ...       ...        ...         ...       ...       ...   \n",
       "16507  4.0647      23.0  4.717113   1.111758      1950.0  2.270081     33.43   \n",
       "16508  0.8172      52.0  6.102459   1.372951       728.0  2.983607     37.82   \n",
       "16509  4.6350      36.0  6.693762   1.077505      1478.0  2.793951     37.71   \n",
       "16510  3.1587      11.0  3.656874   1.045828      1700.0  1.997650     34.18   \n",
       "16511  2.2727      10.0  4.934028   1.076389      1443.0  2.505208     36.59   \n",
       "\n",
       "       Longitude  \n",
       "0        -118.53  \n",
       "1        -117.93  \n",
       "2        -117.09  \n",
       "3        -118.24  \n",
       "4        -118.09  \n",
       "...          ...  \n",
       "16507    -117.62  \n",
       "16508    -122.28  \n",
       "16509    -122.06  \n",
       "16510    -118.31  \n",
       "16511    -119.61  \n",
       "\n",
       "[16512 rows x 8 columns]"
      ]
     },
     "execution_count": 330,
     "metadata": {},
     "output_type": "execute_result"
    }
   ],
   "source": [
    "X_train"
   ]
  },
  {
   "cell_type": "code",
   "execution_count": 331,
   "id": "guilty-expert",
   "metadata": {},
   "outputs": [],
   "source": [
    "from sklearn.model_selection import train_test_split"
   ]
  },
  {
   "cell_type": "code",
   "execution_count": 332,
   "id": "certain-machinery",
   "metadata": {},
   "outputs": [
    {
     "data": {
      "text/html": [
       "<div>\n",
       "<style scoped>\n",
       "    .dataframe tbody tr th:only-of-type {\n",
       "        vertical-align: middle;\n",
       "    }\n",
       "\n",
       "    .dataframe tbody tr th {\n",
       "        vertical-align: top;\n",
       "    }\n",
       "\n",
       "    .dataframe thead th {\n",
       "        text-align: right;\n",
       "    }\n",
       "</style>\n",
       "<table border=\"1\" class=\"dataframe\">\n",
       "  <thead>\n",
       "    <tr style=\"text-align: right;\">\n",
       "      <th></th>\n",
       "      <th>city</th>\n",
       "      <th>city_ascii</th>\n",
       "      <th>lat</th>\n",
       "      <th>lng</th>\n",
       "      <th>country</th>\n",
       "      <th>iso2</th>\n",
       "      <th>iso3</th>\n",
       "      <th>admin_name</th>\n",
       "      <th>capital</th>\n",
       "      <th>population</th>\n",
       "      <th>id</th>\n",
       "    </tr>\n",
       "  </thead>\n",
       "  <tbody>\n",
       "    <tr>\n",
       "      <th>0</th>\n",
       "      <td>Los Angeles</td>\n",
       "      <td>Los Angeles</td>\n",
       "      <td>34.1139</td>\n",
       "      <td>-118.4068</td>\n",
       "      <td>United States</td>\n",
       "      <td>US</td>\n",
       "      <td>USA</td>\n",
       "      <td>California</td>\n",
       "      <td>NaN</td>\n",
       "      <td>12750807</td>\n",
       "      <td>1840020491</td>\n",
       "    </tr>\n",
       "    <tr>\n",
       "      <th>1</th>\n",
       "      <td>San Francisco</td>\n",
       "      <td>San Francisco</td>\n",
       "      <td>37.7562</td>\n",
       "      <td>-122.4430</td>\n",
       "      <td>United States</td>\n",
       "      <td>US</td>\n",
       "      <td>USA</td>\n",
       "      <td>California</td>\n",
       "      <td>NaN</td>\n",
       "      <td>3592294</td>\n",
       "      <td>1840021543</td>\n",
       "    </tr>\n",
       "    <tr>\n",
       "      <th>2</th>\n",
       "      <td>San Diego</td>\n",
       "      <td>San Diego</td>\n",
       "      <td>32.8312</td>\n",
       "      <td>-117.1225</td>\n",
       "      <td>United States</td>\n",
       "      <td>US</td>\n",
       "      <td>USA</td>\n",
       "      <td>California</td>\n",
       "      <td>NaN</td>\n",
       "      <td>3220118</td>\n",
       "      <td>1840021990</td>\n",
       "    </tr>\n",
       "  </tbody>\n",
       "</table>\n",
       "</div>"
      ],
      "text/plain": [
       "            city     city_ascii      lat       lng        country iso2 iso3  \\\n",
       "0    Los Angeles    Los Angeles  34.1139 -118.4068  United States   US  USA   \n",
       "1  San Francisco  San Francisco  37.7562 -122.4430  United States   US  USA   \n",
       "2      San Diego      San Diego  32.8312 -117.1225  United States   US  USA   \n",
       "\n",
       "   admin_name capital  population          id  \n",
       "0  California     NaN    12750807  1840020491  \n",
       "1  California     NaN     3592294  1840021543  \n",
       "2  California     NaN     3220118  1840021990  "
      ]
     },
     "execution_count": 332,
     "metadata": {},
     "output_type": "execute_result"
    }
   ],
   "source": [
    "citys = pd.read_csv(\"./data/citys.csv\")\n",
    "citys_lat = list(citys[\"lat\"])[::-1]\n",
    "citys_lng = list(citys[\"lng\"])[::-1]\n",
    "citys.head(3)"
   ]
  },
  {
   "cell_type": "code",
   "execution_count": 333,
   "id": "87b79d9b",
   "metadata": {},
   "outputs": [],
   "source": [
    "\n",
    "from math import radians, cos, sin, asin, sqrt\n",
    "\n",
    "def geodistance(lng1,lat1,lng2,lat2):\n",
    "    #lng1,lat1,lng2,lat2 = (120.12802999999997,30.28708,115.86572000000001,28.7427)\n",
    "    lng1, lat1, lng2, lat2 = map(radians, [float(lng1), float(lat1), float(lng2), float(lat2)]) # 经纬度转换成弧度\n",
    "    dlon=lng2-lng1\n",
    "    dlat=lat2-lat1\n",
    "    a=sin(dlat/2)**2 + cos(lat1) * cos(lat2) * sin(dlon/2)**2\n",
    "    distance=2*asin(sqrt(a))*6371*1000 # 地球平均半径，6371km\n",
    "    distance=round(distance/1000,3)\n",
    "    return distance"
   ]
  },
  {
   "cell_type": "code",
   "execution_count": 334,
   "id": "f9b2b7a1",
   "metadata": {},
   "outputs": [],
   "source": [
    "def getCityDistanceAndRank(lat,lng):\n",
    "    d = [geodistance(lng,lat,i,j) for i,j in zip(citys_lng,citys_lat)]\n",
    "    return min(d),d.index(min(d))"
   ]
  },
  {
   "cell_type": "code",
   "execution_count": 335,
   "id": "13688a1d",
   "metadata": {},
   "outputs": [],
   "source": [
    "from sklearn.preprocessing import StandardScaler\n",
    "from sklearn.decomposition import PCA"
   ]
  },
  {
   "cell_type": "code",
   "execution_count": 336,
   "id": "3adefcda",
   "metadata": {},
   "outputs": [],
   "source": [
    "def trans(df):\n",
    "    #df[\"new_coor_add\"]= (df[\"Longitude\"]+df[\"Latitude\"])\n",
    "    df[\"new_coor_sub\"]= (df[\"Longitude\"]-df[\"Latitude\"])\n",
    "    df[\"new_bedrate\"]= (df[\"AveBedrms\"]/df[\"AveRooms\"])\n",
    "    df[\"clearest_city_population\"] = [getCityDistanceAndRank(i,j)[1] for i,j in zip(list(df[\"Latitude\"]),list(df[\"Longitude\"]))]\n",
    "    df[\"clearest_city_distance\"] = [getCityDistanceAndRank(i,j)[0] for i,j in zip(list(df[\"Latitude\"]),list(df[\"Longitude\"]))]\n",
    "    df[\"per_popu_rooms\"] = (df[\"AveRooms\"]/df[\"Population\"])\n",
    "    #df.drop([\"AveBedrms\",\"AveRooms\"],axis=1,inplace=True)\n",
    "    #df = df.loc[:,[\"MedInc\",\"HouseAge\",\"AveBedrms\",\"clearest_city_population\",\"per_popu_rooms\"]]\n",
    "    return df\n",
    "\n",
    "\n",
    "def trans_(df,scaler,istest,pca,pca_=False):\n",
    "    if not istest:\n",
    "        df = scaler.fit_transform(df)\n",
    "        if pca_:\n",
    "            df = pca.fit_transform(df)\n",
    "    else:\n",
    "        df = scaler.transform(df)\n",
    "        if pca_:\n",
    "            df = pca.transform(df)\n",
    "    return df"
   ]
  },
  {
   "cell_type": "code",
   "execution_count": 337,
   "id": "f83e98ba",
   "metadata": {},
   "outputs": [
    {
     "data": {
      "text/html": [
       "<div>\n",
       "<style scoped>\n",
       "    .dataframe tbody tr th:only-of-type {\n",
       "        vertical-align: middle;\n",
       "    }\n",
       "\n",
       "    .dataframe tbody tr th {\n",
       "        vertical-align: top;\n",
       "    }\n",
       "\n",
       "    .dataframe thead th {\n",
       "        text-align: right;\n",
       "    }\n",
       "</style>\n",
       "<table border=\"1\" class=\"dataframe\">\n",
       "  <thead>\n",
       "    <tr style=\"text-align: right;\">\n",
       "      <th></th>\n",
       "      <th>MedInc</th>\n",
       "      <th>HouseAge</th>\n",
       "      <th>AveRooms</th>\n",
       "      <th>AveBedrms</th>\n",
       "      <th>Population</th>\n",
       "      <th>AveOccup</th>\n",
       "      <th>Latitude</th>\n",
       "      <th>Longitude</th>\n",
       "    </tr>\n",
       "  </thead>\n",
       "  <tbody>\n",
       "    <tr>\n",
       "      <th>0</th>\n",
       "      <td>6.6320</td>\n",
       "      <td>27.0</td>\n",
       "      <td>5.879218</td>\n",
       "      <td>1.062167</td>\n",
       "      <td>1402.0</td>\n",
       "      <td>2.490231</td>\n",
       "      <td>33.65</td>\n",
       "      <td>-117.90</td>\n",
       "    </tr>\n",
       "    <tr>\n",
       "      <th>1</th>\n",
       "      <td>2.2227</td>\n",
       "      <td>30.0</td>\n",
       "      <td>5.278552</td>\n",
       "      <td>1.019499</td>\n",
       "      <td>990.0</td>\n",
       "      <td>2.757660</td>\n",
       "      <td>40.77</td>\n",
       "      <td>-124.17</td>\n",
       "    </tr>\n",
       "    <tr>\n",
       "      <th>2</th>\n",
       "      <td>6.0426</td>\n",
       "      <td>19.0</td>\n",
       "      <td>4.839506</td>\n",
       "      <td>1.345679</td>\n",
       "      <td>287.0</td>\n",
       "      <td>3.543210</td>\n",
       "      <td>37.97</td>\n",
       "      <td>-122.34</td>\n",
       "    </tr>\n",
       "    <tr>\n",
       "      <th>3</th>\n",
       "      <td>1.9762</td>\n",
       "      <td>52.0</td>\n",
       "      <td>4.242754</td>\n",
       "      <td>1.152174</td>\n",
       "      <td>1126.0</td>\n",
       "      <td>4.079710</td>\n",
       "      <td>34.06</td>\n",
       "      <td>-117.75</td>\n",
       "    </tr>\n",
       "    <tr>\n",
       "      <th>4</th>\n",
       "      <td>3.1635</td>\n",
       "      <td>30.0</td>\n",
       "      <td>3.505068</td>\n",
       "      <td>1.160473</td>\n",
       "      <td>1026.0</td>\n",
       "      <td>1.733108</td>\n",
       "      <td>34.02</td>\n",
       "      <td>-118.49</td>\n",
       "    </tr>\n",
       "  </tbody>\n",
       "</table>\n",
       "</div>"
      ],
      "text/plain": [
       "   MedInc  HouseAge  AveRooms  AveBedrms  Population  AveOccup  Latitude  \\\n",
       "0  6.6320      27.0  5.879218   1.062167      1402.0  2.490231     33.65   \n",
       "1  2.2227      30.0  5.278552   1.019499       990.0  2.757660     40.77   \n",
       "2  6.0426      19.0  4.839506   1.345679       287.0  3.543210     37.97   \n",
       "3  1.9762      52.0  4.242754   1.152174      1126.0  4.079710     34.06   \n",
       "4  3.1635      30.0  3.505068   1.160473      1026.0  1.733108     34.02   \n",
       "\n",
       "   Longitude  \n",
       "0    -117.90  \n",
       "1    -124.17  \n",
       "2    -122.34  \n",
       "3    -117.75  \n",
       "4    -118.49  "
      ]
     },
     "execution_count": 337,
     "metadata": {},
     "output_type": "execute_result"
    }
   ],
   "source": [
    "X_test.head()"
   ]
  },
  {
   "cell_type": "code",
   "execution_count": 338,
   "id": "8d28e63e",
   "metadata": {},
   "outputs": [
    {
     "name": "stderr",
     "output_type": "stream",
     "text": [
      "C:\\Users\\wlz\\AppData\\Local\\Temp/ipykernel_8544/2560604158.py:4: DeprecationWarning: `np.bool` is a deprecated alias for the builtin `bool`. To silence this warning, use `bool` by itself. Doing this will not modify any behavior and is safe. If you specifically wanted the numpy scalar type, use `np.bool_` here.\n",
      "Deprecated in NumPy 1.20; for more details and guidance: https://numpy.org/devdocs/release/1.20.0-notes.html#deprecations\n",
      "  mask = np.zeros_like(housing.corr(), dtype=np.bool)\n"
     ]
    },
    {
     "data": {
      "image/png": "[encoded data removed]",
      "text/plain": [
       "<Figure size 1080x864 with 2 Axes>"
      ]
     },
     "metadata": {
      "needs_background": "light"
     },
     "output_type": "display_data"
    }
   ],
   "source": [
    "scaler = StandardScaler(with_mean=True,with_std=True)\n",
    "pca = PCA(n_components=0.98)\n",
    "X_test.columns =list( X_train.columns)\n",
    "X_train = trans(X_train)\n",
    "\n",
    "X_test = trans(X_test)\n",
    "paincorr(X_train,y_train)\n",
    "X_train = trans_(X_train,scaler,False,pca)\n",
    "X_test = trans_(X_test,scaler,True,pca)"
   ]
  },
  {
   "cell_type": "code",
   "execution_count": 339,
   "id": "2e1f39f1",
   "metadata": {},
   "outputs": [],
   "source": [
    "from sklearn.model_selection import train_test_split\n",
    "X_train, X_test, y_train, y_test = train_test_split(X_train, y_train, test_size=0.2)"
   ]
  },
  {
   "cell_type": "markdown",
   "id": "9da3282e",
   "metadata": {},
   "source": [
    "# 特征工程\n",
    "\n",
    "经度+维度 同时考虑两个特征\n",
    "\n",
    "卧室占比 卧室数量除以房间数量\n",
    "\n"
   ]
  },
  {
   "cell_type": "markdown",
   "id": "433c65c8",
   "metadata": {},
   "source": [
    "# 预处理\n",
    "标准化"
   ]
  },
  {
   "cell_type": "markdown",
   "id": "bb4bf255",
   "metadata": {},
   "source": [
    "## 构建模型和测评\n",
    "这部分由同学们完成\n",
    "\n",
    "baseline是没有做特征工程的数据建模，使用线性回归得到的模型。\n",
    "\n",
    "建议：\n",
    "- 不一定使用这个模型，可以使用任何回归模型\n",
    "- 建议调参"
   ]
  },
  {
   "cell_type": "code",
   "execution_count": 340,
   "id": "f05ca600",
   "metadata": {},
   "outputs": [],
   "source": [
    "from sklearn.metrics import r2_score\n",
    "from sklearn.metrics import mean_squared_error\n",
    "from sklearn.model_selection import cross_val_score\n",
    "#y_test=pd.read_csv('data/y_test.csv')['target']"
   ]
  },
  {
   "cell_type": "code",
   "execution_count": 341,
   "id": "fbfa42ce",
   "metadata": {},
   "outputs": [
    {
     "name": "stdout",
     "output_type": "stream",
     "text": [
      "R2_score (train):  0.6226675473632926\n"
     ]
    }
   ],
   "source": [
    "from sklearn.linear_model import LinearRegression\n",
    "\n",
    "model = LinearRegression()\n",
    "model.fit(X_train, y_train)\n",
    "y_pred_train = model.predict(X_train)\n",
    "y_pred_test = model.predict(X_test)\n",
    "r2_score_linear_train = r2_score(y_train, y_pred_train)\n",
    "\n",
    "## 因为只有训练集有标签，只能生成训练集的分数\n",
    "print('R2_score (train): ',r2_score_linear_train)"
   ]
  },
  {
   "cell_type": "code",
   "execution_count": 342,
   "id": "published-blame",
   "metadata": {},
   "outputs": [
    {
     "name": "stdout",
     "output_type": "stream",
     "text": [
      "0.3725345523776614\n"
     ]
    }
   ],
   "source": [
    "r2_score_test = r2_score(y_pred_test,y_test)\n",
    "print(r2_score_test)"
   ]
  },
  {
   "cell_type": "code",
   "execution_count": 343,
   "id": "exact-witch",
   "metadata": {},
   "outputs": [
    {
     "name": "stdout",
     "output_type": "stream",
     "text": [
      "R2_score (train):  1.0\n"
     ]
    }
   ],
   "source": [
    "from sklearn.tree import DecisionTreeRegressor\n",
    "\n",
    "model = DecisionTreeRegressor()\n",
    "model.fit(X_train, y_train)\n",
    "y_pred_train = model.predict(X_train)\n",
    "y_pred_test = model.predict(X_test)\n",
    "r2_score_linear_train = r2_score(y_train, y_pred_train)\n",
    "\n",
    "## 因为只有训练集有标签，只能生成训练集的分数\n",
    "print('R2_score (train): ',r2_score_linear_train)"
   ]
  },
  {
   "cell_type": "code",
   "execution_count": 344,
   "id": "involved-courage",
   "metadata": {},
   "outputs": [
    {
     "name": "stdout",
     "output_type": "stream",
     "text": [
      "0.6517705969579606\n"
     ]
    }
   ],
   "source": [
    "r2_score_test = r2_score(y_pred_test,y_test)\n",
    "print(r2_score_test)"
   ]
  },
  {
   "cell_type": "code",
   "execution_count": 345,
   "id": "heavy-decimal",
   "metadata": {},
   "outputs": [],
   "source": [
    "# from sklearn.tree import DecisionTreeRegressor\n",
    "\n",
    "# model = DecisionTreeRegressor()\n",
    "# model.fit(X_train, y_train)\n",
    "# y_pred_train = model.predict(X_train)\n",
    "# y_pred_test = model.predict(X_test)\n",
    "# r2_score_linear_train = r2_score(y_train, y_pred_train)\n",
    "\n",
    "# ## 因为只有训练集有标签，只能生成训练集的分数\n",
    "# print('R2_score (train): ',r2_score_linear_train)"
   ]
  },
  {
   "cell_type": "code",
   "execution_count": 357,
   "id": "broke-memory",
   "metadata": {},
   "outputs": [
    {
     "name": "stdout",
     "output_type": "stream",
     "text": [
      "R2_score (train):  0.9433166162876293\n",
      "0.8164349437462575\n"
     ]
    }
   ],
   "source": [
    "from xgboost import XGBRegressor\n",
    "from sklearn.metrics import r2_score\n",
    "model=XGBRegressor(learning_rate=0.1, n_estimators=475, max_depth=5, min_child_weight=5, seed=0,\n",
    "                             subsample=0.7, colsample_bytree=0.7, gamma=0.1, reg_alpha=1, reg_lambda=1)\n",
    "model.fit(X_train,y_train)\n",
    "y_pred_train = model.predict(X_train)\n",
    "r2_score_linear_train = r2_score(y_train, y_pred_train)\n",
    "print('R2_score (train): ',r2_score_linear_train)\n",
    "y_pred_test = model.predict(X_test)\n",
    "r2_score_test = r2_score(y_pred_test,y_test)\n",
    "print(r2_score_test)"
   ]
  },
  {
   "cell_type": "code",
   "execution_count": null,
   "id": "neither-socket",
   "metadata": {},
   "outputs": [],
   "source": []
  },
  {
   "cell_type": "code",
   "execution_count": null,
   "id": "bright-telephone",
   "metadata": {},
   "outputs": [],
   "source": []
  },
  {
   "cell_type": "code",
   "execution_count": 347,
   "id": "cardiac-measure",
   "metadata": {},
   "outputs": [],
   "source": [
    "from sklearn.model_selection import GridSearchCV"
   ]
  },
  {
   "cell_type": "code",
   "execution_count": 348,
   "id": "b62e5f1b",
   "metadata": {},
   "outputs": [],
   "source": [
    "model= LinearRegression()\n",
    "parameters = {\"fit_intercept\":(True,False),\n",
    "        \"normalize\":(True,False),\n",
    "}"
   ]
  },
  {
   "cell_type": "code",
   "execution_count": 349,
   "id": "gothic-speech",
   "metadata": {},
   "outputs": [],
   "source": [
    "# model= DecisionTreeRegressor()\n",
    "# parameters = {'splitter':('best','random')\n",
    "#               ,'criterion':(\"friedman_mse\",\"entropy\",\"absolute_error\")\n",
    "#               ,\"max_depth\":[*range(1,10)]\n",
    "#               ,'min_samples_leaf':[*range(1,50,5)]\n",
    "# }\n"
   ]
  },
  {
   "cell_type": "code",
   "execution_count": 350,
   "id": "b7423587",
   "metadata": {},
   "outputs": [
    {
     "data": {
      "text/plain": [
       "GridSearchCV(estimator=LinearRegression(),\n",
       "             param_grid={'fit_intercept': (True, False),\n",
       "                         'normalize': (True, False)})"
      ]
     },
     "execution_count": 350,
     "metadata": {},
     "output_type": "execute_result"
    }
   ],
   "source": [
    "\n",
    "clf = GridSearchCV(model, parameters)\n",
    "clf.fit(X_train, y_train)"
   ]
  },
  {
   "cell_type": "code",
   "execution_count": 351,
   "id": "governmental-joshua",
   "metadata": {},
   "outputs": [
    {
     "data": {
      "text/plain": [
       "LinearRegression(normalize=True)"
      ]
     },
     "execution_count": 351,
     "metadata": {},
     "output_type": "execute_result"
    }
   ],
   "source": [
    "clf.best_estimator_"
   ]
  },
  {
   "cell_type": "code",
   "execution_count": 352,
   "id": "engaging-heading",
   "metadata": {},
   "outputs": [
    {
     "data": {
      "text/plain": [
       "0.617696771064743"
      ]
     },
     "execution_count": 352,
     "metadata": {},
     "output_type": "execute_result"
    }
   ],
   "source": [
    "clf.best_score_"
   ]
  },
  {
   "cell_type": "code",
   "execution_count": 353,
   "id": "random-listening",
   "metadata": {},
   "outputs": [],
   "source": [
    "y_pred_test = clf.predict(X_test)\n"
   ]
  },
  {
   "cell_type": "code",
   "execution_count": 354,
   "id": "operational-western",
   "metadata": {},
   "outputs": [
    {
     "name": "stdout",
     "output_type": "stream",
     "text": [
      "0.372453342224082\n"
     ]
    }
   ],
   "source": [
    "r2_score_test = r2_score(y_pred_test,y_test)\n",
    "print(r2_score_test)"
   ]
  },
  {
   "cell_type": "code",
   "execution_count": null,
   "id": "juvenile-winner",
   "metadata": {},
   "outputs": [],
   "source": []
  },
  {
   "cell_type": "code",
   "execution_count": null,
   "id": "understanding-healthcare",
   "metadata": {},
   "outputs": [],
   "source": []
  },
  {
   "cell_type": "code",
   "execution_count": null,
   "id": "hindu-nomination",
   "metadata": {},
   "outputs": [],
   "source": []
  },
  {
   "cell_type": "markdown",
   "id": "1e9b384d",
   "metadata": {},
   "source": [
    "### 务必把StudentId写成自己的学号，否则没有成绩！"
   ]
  },
  {
   "cell_type": "code",
   "execution_count": 355,
   "id": "4da439a0",
   "metadata": {},
   "outputs": [],
   "source": [
    "student_id = '20211320130'#写自己的学号\n",
    "subdir=\"./\""
   ]
  },
  {
   "cell_type": "code",
   "execution_count": 356,
   "id": "6f7d92cc",
   "metadata": {},
   "outputs": [],
   "source": [
    "submission = pd.DataFrame(y_pred_test, columns=['target'])\n",
    "\n",
    "submission.to_csv(subdir + student_id + 'submission_{}.csv'.format(\n",
    "    datetime.datetime.now().strftime('%Y%m%d_%H%M%S')),\n",
    "                  index=False)\n",
    "\n",
    "## 这里就提交了，这里的代码不能改"
   ]
  },
  {
   "cell_type": "markdown",
   "id": "04a00a9c",
   "metadata": {},
   "source": [
    "### 最后下载csv和代码文件的pdf版本（或者html版本）文件上传到ftp://10.132.219.5:955 的相应目录\n",
    "\n",
    "先上传csv文件，测评结束后再上传代码文件！！"
   ]
  }
 ],
 "metadata": {
  "kernelspec": {
   "display_name": "Python 3.9.7 ('base')",
   "language": "python",
   "name": "python3"
  },
  "language_info": {
   "codemirror_mode": {
    "name": "ipython",
    "version": 3
   },
   "file_extension": ".py",
   "mimetype": "text/x-python",
   "name": "python",
   "nbconvert_exporter": "python",
   "pygments_lexer": "ipython3",
   "version": "3.9.7"
  },
  "vscode": {
   "interpreter": {
    "hash": "5179d32cf6ec497baf3f8a3ef987cc77c5d2dc691fdde20a56316522f61a7323"
   }
  }
 },
 "nbformat": 4,
 "nbformat_minor": 5
}
